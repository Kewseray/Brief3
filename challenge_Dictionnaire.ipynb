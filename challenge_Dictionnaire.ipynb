{
 "cells": [
  {
   "cell_type": "code",
   "execution_count": 125,
   "metadata": {},
   "outputs": [
    {
     "name": "stdout",
     "output_type": "stream",
     "text": [
      "{'Marie': 15, 'Samuel': 17, 'Gaston': 12, 'Fred': 10, 'Mae': 5, 'Julie': 15, 'Zoe': 7, 'Claire': 20, 'Chloe': 8, 'Julien': 14, 'Gael': 9, 'Samia': 15, 'Omar': 11, 'Gabriel': 16, 'Manon': 2}\n"
     ]
    }
   ],
   "source": [
    "#Création de dictionnaire\n",
    "ventes_commerciaux={\"Marie\":15,\"Samuel\":17,\"Gaston\":12,  \"Fred\":10,\"Mae\":5, \"Julie\":15,\"Zoe\":7, \"Claire\":20,\n",
    "\"Chloe\":8,\"Julien\":14,\"Gael\":9,\"Samia\":15,\"Omar\":11,\"Gabriel\":16,\"Manon\": 2}\n",
    "\n",
    "print(ventes_commerciaux)"
   ]
  },
  {
   "cell_type": "code",
   "execution_count": 112,
   "metadata": {},
   "outputs": [
    {
     "name": "stdout",
     "output_type": "stream",
     "text": [
      "Voici la moyenne :  11.733333333333333\n"
     ]
    }
   ],
   "source": [
    "#Quelle est la moyenne des ventes ? \n",
    "compteur = 0\n",
    "somme = 0\n",
    "\n",
    "for san in ventes_commerciaux:\n",
    "    compteur += 1\n",
    "    somme += ventes_commerciaux[san]\n",
    "\n",
    "\n",
    "print(\"Voici la moyenne : \" , somme / compteur )\n"
   ]
  },
  {
   "cell_type": "code",
   "execution_count": 59,
   "metadata": {},
   "outputs": [
    {
     "name": "stdout",
     "output_type": "stream",
     "text": [
      "Le nombre de vendeur est :  15\n"
     ]
    }
   ],
   "source": [
    "# Afficher le nombre total de vendeurs\n",
    "\n",
    "print(\"Le nombre de vendeur est : \" , len(ventes_commerciaux))\n",
    "\n",
    "\n",
    "\n"
   ]
  },
  {
   "cell_type": "code",
   "execution_count": 97,
   "metadata": {},
   "outputs": [
    {
     "name": "stdout",
     "output_type": "stream",
     "text": [
      "15\n",
      "17\n",
      "12\n",
      "15\n",
      "20\n",
      "14\n",
      "15\n",
      "16\n"
     ]
    },
    {
     "data": {
      "text/plain": [
       "8"
      ]
     },
     "execution_count": 97,
     "metadata": {},
     "output_type": "execute_result"
    }
   ],
   "source": [
    "# Combien de commerciaux ont un nombre de ventes strictement supérieur à la moyenne ?\n",
    "\n",
    "def commerce_sup():\n",
    "    i = 0\n",
    "    for v in ventes_commerciaux.values():\n",
    "        if  v > 11.733333333333333:\n",
    "            print(v)\n",
    "            i += 1\n",
    "    return i\n",
    "commerce_sup()"
   ]
  },
  {
   "cell_type": "code",
   "execution_count": 98,
   "metadata": {},
   "outputs": [
    {
     "name": "stdout",
     "output_type": "stream",
     "text": [
      "Claire\n"
     ]
    }
   ],
   "source": [
    "#Quel est le prénom du meilleur vendeur ? \n",
    "\n",
    "print(max(ventes_commerciaux,key = ventes_commerciaux.get))\n"
   ]
  },
  {
   "cell_type": "code",
   "execution_count": 126,
   "metadata": {},
   "outputs": [
    {
     "data": {
      "text/plain": [
       "['Mae', 'Zoe']"
      ]
     },
     "execution_count": 126,
     "metadata": {},
     "output_type": "execute_result"
    }
   ],
   "source": [
    "# Combien de vendeurs ont un prénom  avec strictement moins de 4 lettres?\n",
    "prénom_4 = []\n",
    "for i in ventes_commerciaux:\n",
    "    if len(i) < 4:\n",
    "        prénom_4.append(i)\n",
    "      \n",
    "prénom_4\n",
    "\n"
   ]
  },
  {
   "cell_type": "code",
   "execution_count": 130,
   "metadata": {},
   "outputs": [
    {
     "data": {
      "text/plain": [
       "[12, 10, 20, 8, 14, 16, 2]"
      ]
     },
     "execution_count": 130,
     "metadata": {},
     "output_type": "execute_result"
    }
   ],
   "source": [
    "# Afficher le prénom des vendeurs qui ont un nombre de ventes pair  ( multiple de 2 )\n",
    "vend_pair = []\n",
    "\n",
    "\n",
    "for i in ventes_commerciaux.values():\n",
    "    if i % 2 == 0:\n",
    "        vend_pair.append(i)\n",
    "vend_pair\n"
   ]
  }
 ],
 "metadata": {
  "kernelspec": {
   "display_name": "Python 3.9.12 ('base')",
   "language": "python",
   "name": "python3"
  },
  "language_info": {
   "codemirror_mode": {
    "name": "ipython",
    "version": 3
   },
   "file_extension": ".py",
   "mimetype": "text/x-python",
   "name": "python",
   "nbconvert_exporter": "python",
   "pygments_lexer": "ipython3",
   "version": "3.9.12"
  },
  "orig_nbformat": 4,
  "vscode": {
   "interpreter": {
    "hash": "cce956dd8b59511f520788cd9362dddc117670ac5ef39c9ede8ba85a43b854a0"
   }
  }
 },
 "nbformat": 4,
 "nbformat_minor": 2
}
