{
 "cells": [
  {
   "cell_type": "code",
   "execution_count": 1,
   "metadata": {},
   "outputs": [
    {
     "name": "stdout",
     "output_type": "stream",
     "text": [
      "La moyenne est: 4.333333333333333\n",
      "Médianne est: 4.5\n"
     ]
    }
   ],
   "source": [
    "k=[1,2,3,6,6,8]\n",
    "\n",
    "n=len(k)\n",
    "\n",
    "sum_k = sum(k)\n",
    "\n",
    "mean = sum_k / n\n",
    "\n",
    "print(\"La moyenne est: \" + str(mean))\n",
    "\n",
    "k.sort()\n",
    "  \n",
    "if n % 2 == 0:\n",
    "    median1 = k[n//2]\n",
    "    median2 = k[n//2 - 1]\n",
    "    median = (median1 + median2)/2\n",
    "else:\n",
    "    median = k[n//2]\n",
    "print(\"Médianne est: \" + str(median))\n",
    "\n",
    "\n",
    "\n",
    "\n"
   ]
  },
  {
   "cell_type": "code",
   "execution_count": 23,
   "metadata": {},
   "outputs": [
    {
     "name": "stdout",
     "output_type": "stream",
     "text": [
      "La variance est :  8.76923076923077\n"
     ]
    }
   ],
   "source": [
    "k=[1,2,3,6,6,8]\n",
    "\n",
    "n=len(k)\n",
    "\n",
    "sum_k = sum(k)\n",
    "\n",
    "moy_k = sum_k / n\n",
    "\n",
    "\n",
    "def sum_carre(k,moy_k):\n",
    "    v = 0\n",
    "    total = 0\n",
    "    for i in range (0, len(k)):\n",
    "        v = (k[i] - int(moy_k))**2\n",
    "        total = total + v\n",
    "\n",
    "        \n",
    "    variance = total /moy_k\n",
    "    return variance\n",
    "\n",
    "print(\"La variance est : \",sum_carre(k, moy_k))\n"
   ]
  },
  {
   "cell_type": "code",
   "execution_count": 24,
   "metadata": {},
   "outputs": [
    {
     "name": "stdout",
     "output_type": "stream",
     "text": [
      "L'écart type est: 2.9612887007569473\n"
     ]
    }
   ],
   "source": [
    "# Il suffit de trouver la racine carrée de la variance pour obtenir l’écart-type\n",
    "x=sum_carre(k, moy_k)\n",
    "ecartype_k=x**(0.5)\n",
    "print(\"L'écart type est:\",ecartype_k)\n",
    "\n"
   ]
  },
  {
   "cell_type": "code",
   "execution_count": null,
   "metadata": {},
   "outputs": [],
   "source": [
    "#calculer l’écart élevé au carré entre chaque valeur et la moyenne\n",
    "#sum_k = sum(k)\n",
    "#mean = sum_k / len(k)\n",
    "\n",
    "#v_0=(k[0]-int(mean))**2\n",
    "#v_1=(k[1]-int(mean))**2\n",
    "#v_2=(k[2]-int(mean))**2\n",
    "#v_3=(k[3]-int(mean))**2\n",
    "#v_4=(k[4]-int(mean))**2\n",
    "#v_5=(k[5]-int(mean))**2\n",
    "    \n",
    "\n",
    "#def sum_carre(x):\n",
    "    #sum_k = sum(k)\n",
    "    #mean = sum_k / len(k)\n",
    "    #return (x-mean)**2\n",
    "\n",
    "#v = []\n",
    "#for i in range(0,6):\n",
    "    #v.append(sum_carre(k[i]))\n",
    "#print(\"La variance est : \",v)\n",
    "\n",
    "\n",
    "#Les écarts carrés de chaque valeur sont ensuite additionnés ,Cette somme est ensuite divisée par le nombre de valeurs:\n",
    "#var_k =  (int(v_0+v_1+v_2+v_3+v_4+v_5)) / len(k)"
   ]
  }
 ],
 "metadata": {
  "kernelspec": {
   "display_name": "Python 3.9.12 ('base')",
   "language": "python",
   "name": "python3"
  },
  "language_info": {
   "codemirror_mode": {
    "name": "ipython",
    "version": 3
   },
   "file_extension": ".py",
   "mimetype": "text/x-python",
   "name": "python",
   "nbconvert_exporter": "python",
   "pygments_lexer": "ipython3",
   "version": "3.9.12"
  },
  "orig_nbformat": 4,
  "vscode": {
   "interpreter": {
    "hash": "cce956dd8b59511f520788cd9362dddc117670ac5ef39c9ede8ba85a43b854a0"
   }
  }
 },
 "nbformat": 4,
 "nbformat_minor": 2
}
