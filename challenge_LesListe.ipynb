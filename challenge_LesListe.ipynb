{
 "cells": [
  {
   "cell_type": "code",
   "execution_count": 41,
   "metadata": {},
   "outputs": [
    {
     "name": "stdout",
     "output_type": "stream",
     "text": [
      "[125000, 135087, 145174, 155261, 165348, 175435, 185522, 195609, 205696, 215783, 225870, 235957, 246044, 256131, 266218, 276305, 286392, 296479, 306566, 316653, 326740, 336827, 346914, 357001, 367088, 377175, 387262, 397349, 407436, 417523, 427610, 437697, 447784, 457871, 467958, 478045, 488132, 498219, 508306, 518393, 528480, 538567, 548654, 558741, 568828, 578915, 589002, 599089, 609176, 619263, 629350, 639437, 649524, 659611, 669698, 679785, 689872, 699959]\n",
      "58\n",
      "Le nombre de maisons ont un prix supérieur ou égal à 300000 euros est :  40\n",
      "Le nombre de maisons ont un prix compris entre 250 000 et 400 000 euros est:  15\n",
      "Le nombre de maisons ont un prix qui n’est pas supérieur à 600 000 euros est: 58\n",
      "Le nombre de maisons ont un prix inférieur à 150 000 euros ou supérieur à 650 000 euros est:  50\n"
     ]
    }
   ],
   "source": [
    "#créer une liste qui contient les prix de 58 maisons utilisant la fonction list(range) et créer un pas.\n",
    "prix_de_58_maisons=list((range(125000,700000,int((700000-125000)/57))))\n",
    "\n",
    "print(prix_de_58_maisons)\n",
    "print(len(prix_de_58_maisons))\n",
    "\n",
    "#Combien de maisons ont un prix supérieur ou égal à 300 0000 euros ? \n",
    "prix=0\n",
    "for i in prix_de_58_maisons:\n",
    "    if i>=300000:\n",
    "        prix+=1\n",
    "print(\"Le nombre de maisons ont un prix supérieur ou égal à 300000 euros est : \",prix)\n",
    "\n",
    "#Combien de maisons ont un prix compris entre 250 000 et 400 000 euros ? ? \n",
    "prix=0\n",
    "for i in prix_de_58_maisons:\n",
    "    if 250000 < i < 400000:\n",
    "        prix+=1\n",
    "print(\"Le nombre de maisons ont un prix compris entre 250 000 et 400 000 euros est: \",prix)\n",
    "\n",
    "#Combien de maisons ont un prix qui n’est pas supérieur à 600 000 euros ? \n",
    "prix=0\n",
    "\n",
    "for i in prix_de_58_maisons:\n",
    "    if i != 600000:\n",
    "        prix+=1\n",
    "print(\"Le nombre de maisons ont un prix qui n’est pas supérieur à 600 000 euros est:\",prix)\n",
    "\n",
    "#Combien de maisons ont un prix inférieur à 150 000 euros ou supérieur à 650 000 euros\n",
    "prix=0\n",
    "\n",
    "for i in prix_de_58_maisons:\n",
    "    if 150000 < i < 650000:\n",
    "        prix+=1\n",
    "print(\"Le nombre de maisons ont un prix inférieur à 150 000 euros ou supérieur à 650 000 euros est: \",prix)\n",
    "\n",
    "\n",
    "\n",
    "\n",
    "\n",
    "\n"
   ]
  },
  {
   "cell_type": "code",
   "execution_count": null,
   "metadata": {},
   "outputs": [],
   "source": []
  }
 ],
 "metadata": {
  "kernelspec": {
   "display_name": "Python 3.9.12 ('base')",
   "language": "python",
   "name": "python3"
  },
  "language_info": {
   "codemirror_mode": {
    "name": "ipython",
    "version": 3
   },
   "file_extension": ".py",
   "mimetype": "text/x-python",
   "name": "python",
   "nbconvert_exporter": "python",
   "pygments_lexer": "ipython3",
   "version": "3.9.12"
  },
  "orig_nbformat": 4,
  "vscode": {
   "interpreter": {
    "hash": "cce956dd8b59511f520788cd9362dddc117670ac5ef39c9ede8ba85a43b854a0"
   }
  }
 },
 "nbformat": 4,
 "nbformat_minor": 2
}
